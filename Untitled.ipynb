{
 "cells": [
  {
   "cell_type": "code",
   "execution_count": 1,
   "id": "69149dd4-e7e3-477a-a91b-5828948d3ae6",
   "metadata": {},
   "outputs": [],
   "source": [
    "from datasets import load_dataset\n",
    "\n",
    "ds = load_dataset(\"bkonkle/snips-joint-intent\")"
   ]
  },
  {
   "cell_type": "code",
   "execution_count": 2,
   "id": "440e9b79-d1e0-441e-aadf-8b36d131c561",
   "metadata": {},
   "outputs": [],
   "source": [
    "train, test = ds['train'], ds['test']"
   ]
  },
  {
   "cell_type": "code",
   "execution_count": 3,
   "id": "7c25b3c2-fd3c-406a-b607-8831ac3429ab",
   "metadata": {},
   "outputs": [],
   "source": [
    "train_pd = train.to_pandas()"
   ]
  },
  {
   "cell_type": "code",
   "execution_count": 4,
   "id": "db8b0834-f922-4424-a123-bffbb52fbd37",
   "metadata": {},
   "outputs": [
    {
     "data": {
      "text/html": [
       "<div>\n",
       "<style scoped>\n",
       "    .dataframe tbody tr th:only-of-type {\n",
       "        vertical-align: middle;\n",
       "    }\n",
       "\n",
       "    .dataframe tbody tr th {\n",
       "        vertical-align: top;\n",
       "    }\n",
       "\n",
       "    .dataframe thead th {\n",
       "        text-align: right;\n",
       "    }\n",
       "</style>\n",
       "<table border=\"1\" class=\"dataframe\">\n",
       "  <thead>\n",
       "    <tr style=\"text-align: right;\">\n",
       "      <th></th>\n",
       "      <th>input</th>\n",
       "      <th>intent</th>\n",
       "      <th>slots</th>\n",
       "    </tr>\n",
       "  </thead>\n",
       "  <tbody>\n",
       "    <tr>\n",
       "      <th>0</th>\n",
       "      <td>listen to westbam alumb allergic on google music</td>\n",
       "      <td>PlayMusic</td>\n",
       "      <td>O O B-artist O B-album O B-service I-service</td>\n",
       "    </tr>\n",
       "    <tr>\n",
       "      <th>1</th>\n",
       "      <td>add step to me to the 50 clásicos playlist</td>\n",
       "      <td>AddToPlaylist</td>\n",
       "      <td>O B-entity_name I-entity_name I-entity_name O ...</td>\n",
       "    </tr>\n",
       "    <tr>\n",
       "      <th>2</th>\n",
       "      <td>i give this current textbook a rating value of...</td>\n",
       "      <td>RateBook</td>\n",
       "      <td>O O O B-object_select B-object_type O O O O B-...</td>\n",
       "    </tr>\n",
       "    <tr>\n",
       "      <th>3</th>\n",
       "      <td>play the song little robin redbreast</td>\n",
       "      <td>PlayMusic</td>\n",
       "      <td>O O B-music_item B-track I-track I-track</td>\n",
       "    </tr>\n",
       "    <tr>\n",
       "      <th>4</th>\n",
       "      <td>please add iris dement to my playlist this is ...</td>\n",
       "      <td>AddToPlaylist</td>\n",
       "      <td>O O B-artist I-artist O B-playlist_owner O B-p...</td>\n",
       "    </tr>\n",
       "  </tbody>\n",
       "</table>\n",
       "</div>"
      ],
      "text/plain": [
       "                                               input         intent  \\\n",
       "0   listen to westbam alumb allergic on google music      PlayMusic   \n",
       "1        add step to me to the 50 clásicos playlist   AddToPlaylist   \n",
       "2  i give this current textbook a rating value of...       RateBook   \n",
       "3               play the song little robin redbreast      PlayMusic   \n",
       "4  please add iris dement to my playlist this is ...  AddToPlaylist   \n",
       "\n",
       "                                               slots  \n",
       "0       O O B-artist O B-album O B-service I-service  \n",
       "1  O B-entity_name I-entity_name I-entity_name O ...  \n",
       "2  O O O B-object_select B-object_type O O O O B-...  \n",
       "3           O O B-music_item B-track I-track I-track  \n",
       "4  O O B-artist I-artist O B-playlist_owner O B-p...  "
      ]
     },
     "execution_count": 4,
     "metadata": {},
     "output_type": "execute_result"
    }
   ],
   "source": [
    "train_pd.head()"
   ]
  },
  {
   "cell_type": "code",
   "execution_count": 5,
   "id": "4d961c56-2c10-48f9-bf3c-851878b2a062",
   "metadata": {},
   "outputs": [
    {
     "data": {
      "text/plain": [
       "{'PlayMusic': 0,\n",
       " 'AddToPlaylist': 1,\n",
       " 'RateBook': 2,\n",
       " 'SearchScreeningEvent': 3,\n",
       " 'BookRestaurant': 4,\n",
       " 'GetWeather': 5,\n",
       " 'SearchCreativeWork': 6}"
      ]
     },
     "execution_count": 5,
     "metadata": {},
     "output_type": "execute_result"
    }
   ],
   "source": [
    "labels = dict()\n",
    "\n",
    "for index, intent in enumerate(train_pd['intent'].unique()):\n",
    "    labels[intent] = index\n",
    "labels"
   ]
  },
  {
   "cell_type": "code",
   "execution_count": 6,
   "id": "ea6c25e6-cd5c-4628-88aa-43bb81be96ae",
   "metadata": {},
   "outputs": [],
   "source": [
    "ds_copy = train_pd.copy()"
   ]
  },
  {
   "cell_type": "code",
   "execution_count": 7,
   "id": "57014ebb-adc0-40c6-ac7e-4892a6cc71e8",
   "metadata": {},
   "outputs": [],
   "source": [
    "ds_copy['intent'] = ds_copy['intent'].map( lambda x: labels[x] )"
   ]
  },
  {
   "cell_type": "code",
   "execution_count": 8,
   "id": "402056ef-fda7-4a2c-a7c4-d5e387a0739d",
   "metadata": {},
   "outputs": [
    {
     "data": {
      "text/html": [
       "<div>\n",
       "<style scoped>\n",
       "    .dataframe tbody tr th:only-of-type {\n",
       "        vertical-align: middle;\n",
       "    }\n",
       "\n",
       "    .dataframe tbody tr th {\n",
       "        vertical-align: top;\n",
       "    }\n",
       "\n",
       "    .dataframe thead th {\n",
       "        text-align: right;\n",
       "    }\n",
       "</style>\n",
       "<table border=\"1\" class=\"dataframe\">\n",
       "  <thead>\n",
       "    <tr style=\"text-align: right;\">\n",
       "      <th></th>\n",
       "      <th>input</th>\n",
       "      <th>intent</th>\n",
       "      <th>slots</th>\n",
       "    </tr>\n",
       "  </thead>\n",
       "  <tbody>\n",
       "    <tr>\n",
       "      <th>0</th>\n",
       "      <td>listen to westbam alumb allergic on google music</td>\n",
       "      <td>0</td>\n",
       "      <td>O O B-artist O B-album O B-service I-service</td>\n",
       "    </tr>\n",
       "    <tr>\n",
       "      <th>1</th>\n",
       "      <td>add step to me to the 50 clásicos playlist</td>\n",
       "      <td>1</td>\n",
       "      <td>O B-entity_name I-entity_name I-entity_name O ...</td>\n",
       "    </tr>\n",
       "    <tr>\n",
       "      <th>2</th>\n",
       "      <td>i give this current textbook a rating value of...</td>\n",
       "      <td>2</td>\n",
       "      <td>O O O B-object_select B-object_type O O O O B-...</td>\n",
       "    </tr>\n",
       "    <tr>\n",
       "      <th>3</th>\n",
       "      <td>play the song little robin redbreast</td>\n",
       "      <td>0</td>\n",
       "      <td>O O B-music_item B-track I-track I-track</td>\n",
       "    </tr>\n",
       "    <tr>\n",
       "      <th>4</th>\n",
       "      <td>please add iris dement to my playlist this is ...</td>\n",
       "      <td>1</td>\n",
       "      <td>O O B-artist I-artist O B-playlist_owner O B-p...</td>\n",
       "    </tr>\n",
       "  </tbody>\n",
       "</table>\n",
       "</div>"
      ],
      "text/plain": [
       "                                               input  intent  \\\n",
       "0   listen to westbam alumb allergic on google music       0   \n",
       "1        add step to me to the 50 clásicos playlist        1   \n",
       "2  i give this current textbook a rating value of...       2   \n",
       "3               play the song little robin redbreast       0   \n",
       "4  please add iris dement to my playlist this is ...       1   \n",
       "\n",
       "                                               slots  \n",
       "0       O O B-artist O B-album O B-service I-service  \n",
       "1  O B-entity_name I-entity_name I-entity_name O ...  \n",
       "2  O O O B-object_select B-object_type O O O O B-...  \n",
       "3           O O B-music_item B-track I-track I-track  \n",
       "4  O O B-artist I-artist O B-playlist_owner O B-p...  "
      ]
     },
     "execution_count": 8,
     "metadata": {},
     "output_type": "execute_result"
    }
   ],
   "source": [
    "ds_copy.head()"
   ]
  },
  {
   "cell_type": "code",
   "execution_count": 4,
   "id": "2c9f53cc-e8ce-44e4-bf62-7c4827d73c9f",
   "metadata": {},
   "outputs": [
    {
     "name": "stderr",
     "output_type": "stream",
     "text": [
      "/home/blankstare/miniforge3/envs/hf_env/lib/python3.10/site-packages/huggingface_hub/file_download.py:945: FutureWarning: `resume_download` is deprecated and will be removed in version 1.0.0. Downloads always resume when possible. If you want to force a new download, use `force_download=True`.\n",
      "  warnings.warn(\n",
      "Some weights of the PyTorch model were not used when initializing the TF 2.0 model TFDistilBertModel: ['vocab_layer_norm.bias', 'vocab_transform.weight', 'vocab_transform.bias', 'vocab_projector.bias', 'vocab_layer_norm.weight']\n",
      "- This IS expected if you are initializing TFDistilBertModel from a PyTorch model trained on another task or with another architecture (e.g. initializing a TFBertForSequenceClassification model from a BertForPreTraining model).\n",
      "- This IS NOT expected if you are initializing TFDistilBertModel from a PyTorch model that you expect to be exactly identical (e.g. initializing a TFBertForSequenceClassification model from a BertForSequenceClassification model).\n",
      "All the weights of TFDistilBertModel were initialized from the PyTorch model.\n",
      "If your task is similar to the task the model of the checkpoint was trained on, you can already use TFDistilBertModel for predictions without further training.\n"
     ]
    },
    {
     "name": "stdout",
     "output_type": "stream",
     "text": [
      "(2, 7, 768)\n"
     ]
    }
   ],
   "source": [
    "from transformers import DistilBertTokenizer, TFDistilBertModel\n",
    "\n",
    "tokenizer = DistilBertTokenizer.from_pretrained(\"distilbert-base-uncased\")\n",
    "transformer = TFDistilBertModel.from_pretrained(\"distilbert-base-uncased\")\n",
    "\n",
    "text = [\"Machine learning is fascinating.\", \"so what you say?\"]\n",
    "\n",
    "# Use \"tf\" here because you are working with TensorFlow\n",
    "inputs = tokenizer(text, return_tensors=\"tf\")\n",
    "\n",
    "# Forward pass\n",
    "outputs = transformer(**inputs)\n",
    "\n",
    "last_hidden_state = outputs.last_hidden_state\n",
    "print(last_hidden_state.shape)\n"
   ]
  },
  {
   "cell_type": "code",
   "execution_count": 5,
   "id": "1f70a922-9cd8-4e6c-b69a-06575546d03d",
   "metadata": {},
   "outputs": [],
   "source": [
    "import tensorflow as tf \n",
    "\n",
    "class DistilBERTClassifier(tf.keras.Model): \n",
    "    def __init__(self, transformer, hidden_units, num_labels): \n",
    "        super().__init__()\n",
    "        self.transformer = transformer\n",
    "\n",
    "        # self.hidden1 = tf.keras.layers.Dense(hidden_units, activation='relu')\n",
    "        self.classifier = tf.keras.layers.Dense(num_labels, activation='softmax')\n",
    "\n",
    "    def call(self,inputs):\n",
    "        output = self.transformer(inputs)[0]\n",
    "        clas_token = output[:, 0, :]\n",
    "        # to_hidden = self.hidden1(clas_token) \n",
    "        # return self.classifier(to_hidden) \n",
    "        return self.classifier(clas_token)\n",
    "\n",
    "num_labels = 7\n",
    "hidden_units = 50\n",
    "model = DistilBERTClassifier(transformer, hidden_units, num_labels)"
   ]
  },
  {
   "cell_type": "code",
   "execution_count": 11,
   "id": "773b4988-1ea0-4bce-b706-98aa8413a9ff",
   "metadata": {},
   "outputs": [],
   "source": [
    "feature,label = ds_copy['input'], ds_copy['intent']\n",
    "X_train, y_train = feature[:10_000], label[:10_000]\n",
    "X_valid, y_valid = feature[10_000:12_000], label[10_000:12_000] \n",
    "X_test, y_test   = feature[12_000:], label[12_000:]"
   ]
  },
  {
   "cell_type": "code",
   "execution_count": 12,
   "id": "7d5193e9-c3e5-47ad-936f-afd048562854",
   "metadata": {},
   "outputs": [],
   "source": [
    "model.compile(\n",
    "    optimizer=tf.keras.optimizers.Adam(learning_rate=5e-5),\n",
    "    loss=tf.keras.losses.SparseCategoricalCrossentropy(),\n",
    "    metrics=['accuracy']\n",
    ")\n",
    "\n",
    "text_set = tokenizer( \n",
    "    X_train.to_list(), \n",
    "    truncation=True,\n",
    "    padding=True, \n",
    "    return_tensors='tf'\n",
    ") \n",
    "\n",
    "X_valid = tokenizer(\n",
    "    X_valid.to_list(),\n",
    "    truncation=True,\n",
    "    padding=True,\n",
    "    return_tensors='tf'\n",
    ")\n",
    "\n",
    "target_set = tf.convert_to_tensor(y_train.to_list())\n",
    "y_valid = tf.convert_to_tensor(y_valid.to_list())\n",
    "\n"
   ]
  },
  {
   "cell_type": "code",
   "execution_count": 13,
   "id": "f74b522c-fcc9-46ff-b8c8-86bb06e87f3d",
   "metadata": {},
   "outputs": [
    {
     "name": "stdout",
     "output_type": "stream",
     "text": [
      "157/157 [==============================] - 304s 2s/step - loss: 0.1756 - accuracy: 0.9487 - val_loss: 0.0484 - val_accuracy: 0.9850\n"
     ]
    }
   ],
   "source": [
    "history = model.fit(\n",
    "    x = {'input_ids': text_set['input_ids'], 'attention_mask': text_set['attention_mask']}, \n",
    "    y = target_set, \n",
    "    epochs=1,\n",
    "    batch_size = 64,\n",
    "    validation_data=(\n",
    "        {'input_ids': X_valid['input_ids'], 'attention_mask': X_valid['attention_mask']},\n",
    "        y_valid\n",
    "    )\n",
    ")"
   ]
  },
  {
   "cell_type": "code",
   "execution_count": 14,
   "id": "5fd96b35-6717-4b49-8364-c3cd674d39e2",
   "metadata": {},
   "outputs": [
    {
     "name": "stdout",
     "output_type": "stream",
     "text": [
      "1/1 [==============================] - 1s 557ms/step\n"
     ]
    }
   ],
   "source": [
    "text = ['this is sample']\n",
    "\n",
    "inputs = tokenizer(text, \n",
    "                   truncation=True,\n",
    "                   padding=True,\n",
    "                   return_tensors=\"tf\")\n",
    "\n",
    "# Forward pass\n",
    "outputs = model.predict({'input_ids': inputs['input_ids'], 'attention_mask': inputs['attention_mask']})"
   ]
  },
  {
   "cell_type": "code",
   "execution_count": 23,
   "id": "ee68fa84-02f1-4cbc-922b-ca8c4c156283",
   "metadata": {},
   "outputs": [],
   "source": [
    "# Save weights\n",
    "model.save_weights(\"filler_s_transformer.h5\")"
   ]
  },
  {
   "cell_type": "code",
   "execution_count": 7,
   "id": "259c656c-3969-4d5d-9601-5d895fe97cf2",
   "metadata": {},
   "outputs": [],
   "source": [
    "new_model = DistilBERTClassifier(transformer, hidden_units, num_labels)\n",
    "\n",
    "dummy_input_ids = tf.ones((1, 10), dtype=tf.int32)  # batch_size=1, sequence_length=10\n",
    "dummy_attention_mask = tf.ones((1, 10), dtype=tf.int32)\n",
    "\n",
    "# Call the model once to build weights\n",
    "_ = new_model({'input_ids': dummy_input_ids, 'attention_mask': dummy_attention_mask})\n",
    "\n",
    "new_model.load_weights('filler_s_transformer.h5')"
   ]
  },
  {
   "cell_type": "code",
   "execution_count": 39,
   "id": "0e79eac2-57ee-4157-b2a9-ffed5422fd69",
   "metadata": {},
   "outputs": [],
   "source": [
    "from pathlib import Path\n",
    "\n",
    "class filler_s_transformer:\n",
    "    def __init__(self):\n",
    "        self.model = self.load_model()\n",
    "\n",
    "    def load_model(self):\n",
    "        path_to_model = 'filler_s_transformer.h5'\n",
    "        if Path(path_to_model).is_file():\n",
    "            temp_model = DistilBERTClassifier(transformer, hidden_units, num_labels)\n",
    "            dummy_input_ids = tf.ones((1, 10), dtype=tf.int32)\n",
    "            dummy_attention_mask = tf.ones((1, 10), dtype=tf.int32)\n",
    "            temp_model({'input_ids': dummy_input_ids, 'attention_mask': dummy_attention_mask})\n",
    "\n",
    "            temp_model.load_weights(path_to_model)\n",
    "            return temp_model\n",
    "\n",
    "    def predict(self, data):\n",
    "        ready_input = tokenizer(data, truncation=True, padding=True, return_tensors='tf')\n",
    "        return self.model.predict({'input_ids': ready_input['input_ids'], 'attention_mask': ready_input['attention_mask']})\n",
    "\n",
    "fillers_model = filler_s_transformer()"
   ]
  },
  {
   "cell_type": "code",
   "execution_count": 40,
   "id": "b77f0b6e-c7c2-4691-8e2a-12162a0c080a",
   "metadata": {},
   "outputs": [
    {
     "name": "stdout",
     "output_type": "stream",
     "text": [
      "1/1 [==============================] - 1s 816ms/step\n"
     ]
    },
    {
     "data": {
      "text/plain": [
       "array([[0.04758742, 0.04607378, 0.02652416, 0.6309597 , 0.00948749,\n",
       "        0.00952466, 0.22984281]], dtype=float32)"
      ]
     },
     "execution_count": 40,
     "metadata": {},
     "output_type": "execute_result"
    }
   ],
   "source": [
    "fillers_model.predict('what you say?')"
   ]
  },
  {
   "cell_type": "code",
   "execution_count": null,
   "id": "b4cac7fe-297f-4156-a38a-52b591d3322e",
   "metadata": {},
   "outputs": [],
   "source": []
  }
 ],
 "metadata": {
  "kernelspec": {
   "display_name": "Python (ml_env)",
   "language": "python",
   "name": "ml_env"
  },
  "language_info": {
   "codemirror_mode": {
    "name": "ipython",
    "version": 3
   },
   "file_extension": ".py",
   "mimetype": "text/x-python",
   "name": "python",
   "nbconvert_exporter": "python",
   "pygments_lexer": "ipython3",
   "version": "3.10.18"
  }
 },
 "nbformat": 4,
 "nbformat_minor": 5
}
